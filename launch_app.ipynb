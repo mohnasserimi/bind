import subprocess
import time
import threading
import os

# Create downloads folder
os.makedirs("downloads", exist_ok=True)

# Start Flask app in background with better error handling
def run_flask():
    os.environ['PORT'] = '5000'
    exec(open('app.py').read())

# Start in thread + keep alive
thread = threading.Thread(target=run_flask, daemon=True)
thread.start()

print("🚀 Starting Flask app...")
print("⏳ Waiting 10 seconds for startup...")

for i in range(10):
    time.sleep(1)
    print(f"  {i+1}/10")

print("✅ App ready!")
print("")
print("🌐 OPEN YOUR APP HERE:")
print("https://hub.gesis.mybinder.org/user/mohnasserimi-bind-8cdonv8b/proxy/5000/")
print("")
print("👤 Login: admin / 1234")
print("📁 Downloads saved to: /home/jovyan/downloads")
