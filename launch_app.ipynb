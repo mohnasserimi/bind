import subprocess
import time
import os

# Create downloads folder
os.makedirs("downloads", exist_ok=True)

# Start Flask in background (keeps running even after cell ends)
print("Starting Video Downloader App...")
process = subprocess.Popen(
    ["python", "app.py"],
    stdout=subprocess.PIPE,
    stderr=subprocess.PIPE
)

# Wait a moment for Flask to start
time.sleep(8)

print("App is READY!")
print("")
print("OPEN HERE → https://hub.gesis.mybinder.org/user/mohnasserimi-bind-8cdonv8b/proxy/5000/")
print("")
print("Login: admin / 1234")
print("")
print("Downloads saved in: downloads/ (check left panel)")
